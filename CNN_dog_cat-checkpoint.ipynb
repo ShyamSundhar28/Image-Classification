{
 "cells": [
  {
   "cell_type": "code",
   "execution_count": 1,
   "id": "c647d79e-2234-4dc8-905a-9659809ef176",
   "metadata": {},
   "outputs": [],
   "source": [
    "import tensorflow as tf\n",
    "from tensorflow.keras.models import Sequential\n",
    "from tensorflow.keras.layers import Conv2D, MaxPooling2D, Flatten, Dense, Dropout\n",
    "from tensorflow.keras.preprocessing.image import ImageDataGenerator\n",
    "import numpy as np\n",
    "import matplotlib.pyplot as plt"
   ]
  },
  {
   "cell_type": "code",
   "execution_count": 5,
   "id": "60a0618d-61e2-4b5c-b746-eea0a2a4b96f",
   "metadata": {},
   "outputs": [],
   "source": [
    "train_dir = r'C:\\Users\\91807\\Downloads\\Project - CNN for Image Classification\\Project - CNN for Image Classification\\dataset\\training_set'\n",
    "test_dir = r'C:\\Users\\91807\\Downloads\\Project - CNN for Image Classification\\Project - CNN for Image Classification\\dataset\\test_set'\n"
   ]
  },
  {
   "cell_type": "code",
   "execution_count": 7,
   "id": "5e472abe-6403-493b-88f1-72ae17d7e78b",
   "metadata": {},
   "outputs": [
    {
     "name": "stdout",
     "output_type": "stream",
     "text": [
      "Found 8000 images belonging to 2 classes.\n",
      "Found 2000 images belonging to 2 classes.\n"
     ]
    }
   ],
   "source": [
    "# Data augmentation and normalization\n",
    "train_datagen = ImageDataGenerator(rescale=1./255, \n",
    "                                   shear_range=0.2, \n",
    "                                   zoom_range=0.2, \n",
    "                                   horizontal_flip=True)\n",
    "test_datagen = ImageDataGenerator(rescale=1./255)\n",
    "\n",
    "# Loading datasets\n",
    "training_set = train_datagen.flow_from_directory(train_dir,\n",
    "                                                 target_size=(64, 64),\n",
    "                                                 batch_size=32,\n",
    "                                                 class_mode='binary')\n",
    "test_set = test_datagen.flow_from_directory(test_dir,\n",
    "                                            target_size=(64, 64),\n",
    "                                            batch_size=32,\n",
    "                                            class_mode='binary')\n"
   ]
  },
  {
   "cell_type": "code",
   "execution_count": 11,
   "id": "97e34f93-7bb1-41ac-8208-58ff4946d954",
   "metadata": {},
   "outputs": [],
   "source": [
    "from tensorflow.keras import Sequential\n",
    "from tensorflow.keras.layers import Input, Conv2D, MaxPooling2D, Flatten, Dense, Dropout\n",
    "\n",
    "# Initialize the model\n",
    "model = Sequential()\n",
    "\n",
    "# Input layer\n",
    "model.add(Input(shape=(64, 64, 3)))\n",
    "\n",
    "# Convolution + Pooling\n",
    "model.add(Conv2D(32, (3, 3), activation='relu'))\n",
    "model.add(MaxPooling2D(pool_size=(2, 2)))\n",
    "\n",
    "# Adding more convolutional layers\n",
    "model.add(Conv2D(64, (3, 3), activation='relu'))\n",
    "model.add(MaxPooling2D(pool_size=(2, 2)))\n",
    "\n",
    "# Flattening\n",
    "model.add(Flatten())\n",
    "\n",
    "# Fully connected layers\n",
    "model.add(Dense(units=128, activation='relu'))\n",
    "model.add(Dropout(0.5))  # Dropout for regularization\n",
    "model.add(Dense(units=1, activation='sigmoid'))  # Binary classification\n",
    "\n",
    "# Compile the model\n",
    "model.compile(optimizer='adam', loss='binary_crossentropy', metrics=['accuracy'])\n"
   ]
  },
  {
   "cell_type": "code",
   "execution_count": 15,
   "id": "0d30cd25-7465-42c9-8762-4774f8362a7c",
   "metadata": {},
   "outputs": [
    {
     "name": "stdout",
     "output_type": "stream",
     "text": [
      "Epoch 1/25\n",
      "\u001b[1m250/250\u001b[0m \u001b[32m━━━━━━━━━━━━━━━━━━━━\u001b[0m\u001b[37m\u001b[0m \u001b[1m54s\u001b[0m 214ms/step - accuracy: 0.8329 - loss: 0.3755 - val_accuracy: 0.8015 - val_loss: 0.4360\n",
      "Epoch 2/25\n",
      "\u001b[1m250/250\u001b[0m \u001b[32m━━━━━━━━━━━━━━━━━━━━\u001b[0m\u001b[37m\u001b[0m \u001b[1m53s\u001b[0m 210ms/step - accuracy: 0.8317 - loss: 0.3696 - val_accuracy: 0.8055 - val_loss: 0.4215\n",
      "Epoch 3/25\n",
      "\u001b[1m250/250\u001b[0m \u001b[32m━━━━━━━━━━━━━━━━━━━━\u001b[0m\u001b[37m\u001b[0m \u001b[1m52s\u001b[0m 207ms/step - accuracy: 0.8318 - loss: 0.3701 - val_accuracy: 0.8220 - val_loss: 0.4070\n",
      "Epoch 4/25\n",
      "\u001b[1m250/250\u001b[0m \u001b[32m━━━━━━━━━━━━━━━━━━━━\u001b[0m\u001b[37m\u001b[0m \u001b[1m52s\u001b[0m 208ms/step - accuracy: 0.8398 - loss: 0.3555 - val_accuracy: 0.8265 - val_loss: 0.4074\n",
      "Epoch 5/25\n",
      "\u001b[1m250/250\u001b[0m \u001b[32m━━━━━━━━━━━━━━━━━━━━\u001b[0m\u001b[37m\u001b[0m \u001b[1m53s\u001b[0m 212ms/step - accuracy: 0.8588 - loss: 0.3314 - val_accuracy: 0.8265 - val_loss: 0.4105\n",
      "Epoch 6/25\n",
      "\u001b[1m250/250\u001b[0m \u001b[32m━━━━━━━━━━━━━━━━━━━━\u001b[0m\u001b[37m\u001b[0m \u001b[1m53s\u001b[0m 210ms/step - accuracy: 0.8504 - loss: 0.3407 - val_accuracy: 0.8205 - val_loss: 0.4134\n",
      "Epoch 7/25\n",
      "\u001b[1m250/250\u001b[0m \u001b[32m━━━━━━━━━━━━━━━━━━━━\u001b[0m\u001b[37m\u001b[0m \u001b[1m55s\u001b[0m 219ms/step - accuracy: 0.8530 - loss: 0.3330 - val_accuracy: 0.8240 - val_loss: 0.4023\n",
      "Epoch 8/25\n",
      "\u001b[1m250/250\u001b[0m \u001b[32m━━━━━━━━━━━━━━━━━━━━\u001b[0m\u001b[37m\u001b[0m \u001b[1m54s\u001b[0m 218ms/step - accuracy: 0.8527 - loss: 0.3248 - val_accuracy: 0.8090 - val_loss: 0.4158\n",
      "Epoch 9/25\n",
      "\u001b[1m250/250\u001b[0m \u001b[32m━━━━━━━━━━━━━━━━━━━━\u001b[0m\u001b[37m\u001b[0m \u001b[1m54s\u001b[0m 218ms/step - accuracy: 0.8694 - loss: 0.2968 - val_accuracy: 0.8200 - val_loss: 0.4054\n",
      "Epoch 10/25\n",
      "\u001b[1m250/250\u001b[0m \u001b[32m━━━━━━━━━━━━━━━━━━━━\u001b[0m\u001b[37m\u001b[0m \u001b[1m57s\u001b[0m 227ms/step - accuracy: 0.8657 - loss: 0.3101 - val_accuracy: 0.8265 - val_loss: 0.4098\n",
      "Epoch 11/25\n",
      "\u001b[1m250/250\u001b[0m \u001b[32m━━━━━━━━━━━━━━━━━━━━\u001b[0m\u001b[37m\u001b[0m \u001b[1m56s\u001b[0m 223ms/step - accuracy: 0.8722 - loss: 0.2921 - val_accuracy: 0.8200 - val_loss: 0.4155\n",
      "Epoch 12/25\n",
      "\u001b[1m250/250\u001b[0m \u001b[32m━━━━━━━━━━━━━━━━━━━━\u001b[0m\u001b[37m\u001b[0m \u001b[1m55s\u001b[0m 221ms/step - accuracy: 0.8756 - loss: 0.2950 - val_accuracy: 0.8195 - val_loss: 0.4302\n",
      "Epoch 13/25\n",
      "\u001b[1m250/250\u001b[0m \u001b[32m━━━━━━━━━━━━━━━━━━━━\u001b[0m\u001b[37m\u001b[0m \u001b[1m56s\u001b[0m 222ms/step - accuracy: 0.8818 - loss: 0.2725 - val_accuracy: 0.8255 - val_loss: 0.4081\n",
      "Epoch 14/25\n",
      "\u001b[1m250/250\u001b[0m \u001b[32m━━━━━━━━━━━━━━━━━━━━\u001b[0m\u001b[37m\u001b[0m \u001b[1m60s\u001b[0m 241ms/step - accuracy: 0.8714 - loss: 0.2879 - val_accuracy: 0.8375 - val_loss: 0.3991\n",
      "Epoch 15/25\n",
      "\u001b[1m250/250\u001b[0m \u001b[32m━━━━━━━━━━━━━━━━━━━━\u001b[0m\u001b[37m\u001b[0m \u001b[1m57s\u001b[0m 227ms/step - accuracy: 0.8873 - loss: 0.2724 - val_accuracy: 0.8255 - val_loss: 0.4295\n",
      "Epoch 16/25\n",
      "\u001b[1m250/250\u001b[0m \u001b[32m━━━━━━━━━━━━━━━━━━━━\u001b[0m\u001b[37m\u001b[0m \u001b[1m56s\u001b[0m 224ms/step - accuracy: 0.8903 - loss: 0.2661 - val_accuracy: 0.8285 - val_loss: 0.4130\n",
      "Epoch 17/25\n",
      "\u001b[1m250/250\u001b[0m \u001b[32m━━━━━━━━━━━━━━━━━━━━\u001b[0m\u001b[37m\u001b[0m \u001b[1m54s\u001b[0m 217ms/step - accuracy: 0.8986 - loss: 0.2559 - val_accuracy: 0.8320 - val_loss: 0.4228\n",
      "Epoch 18/25\n",
      "\u001b[1m250/250\u001b[0m \u001b[32m━━━━━━━━━━━━━━━━━━━━\u001b[0m\u001b[37m\u001b[0m \u001b[1m59s\u001b[0m 237ms/step - accuracy: 0.8954 - loss: 0.2506 - val_accuracy: 0.8205 - val_loss: 0.4608\n",
      "Epoch 19/25\n",
      "\u001b[1m250/250\u001b[0m \u001b[32m━━━━━━━━━━━━━━━━━━━━\u001b[0m\u001b[37m\u001b[0m \u001b[1m55s\u001b[0m 222ms/step - accuracy: 0.9038 - loss: 0.2371 - val_accuracy: 0.8200 - val_loss: 0.4661\n",
      "Epoch 20/25\n",
      "\u001b[1m250/250\u001b[0m \u001b[32m━━━━━━━━━━━━━━━━━━━━\u001b[0m\u001b[37m\u001b[0m \u001b[1m55s\u001b[0m 219ms/step - accuracy: 0.9009 - loss: 0.2434 - val_accuracy: 0.8270 - val_loss: 0.4565\n",
      "Epoch 21/25\n",
      "\u001b[1m250/250\u001b[0m \u001b[32m━━━━━━━━━━━━━━━━━━━━\u001b[0m\u001b[37m\u001b[0m \u001b[1m54s\u001b[0m 214ms/step - accuracy: 0.9070 - loss: 0.2223 - val_accuracy: 0.8290 - val_loss: 0.4300\n",
      "Epoch 22/25\n",
      "\u001b[1m250/250\u001b[0m \u001b[32m━━━━━━━━━━━━━━━━━━━━\u001b[0m\u001b[37m\u001b[0m \u001b[1m56s\u001b[0m 222ms/step - accuracy: 0.9064 - loss: 0.2267 - val_accuracy: 0.8150 - val_loss: 0.4808\n",
      "Epoch 23/25\n",
      "\u001b[1m250/250\u001b[0m \u001b[32m━━━━━━━━━━━━━━━━━━━━\u001b[0m\u001b[37m\u001b[0m \u001b[1m55s\u001b[0m 220ms/step - accuracy: 0.9054 - loss: 0.2293 - val_accuracy: 0.8195 - val_loss: 0.4535\n",
      "Epoch 24/25\n",
      "\u001b[1m250/250\u001b[0m \u001b[32m━━━━━━━━━━━━━━━━━━━━\u001b[0m\u001b[37m\u001b[0m \u001b[1m55s\u001b[0m 222ms/step - accuracy: 0.9021 - loss: 0.2375 - val_accuracy: 0.8255 - val_loss: 0.4713\n",
      "Epoch 25/25\n",
      "\u001b[1m250/250\u001b[0m \u001b[32m━━━━━━━━━━━━━━━━━━━━\u001b[0m\u001b[37m\u001b[0m \u001b[1m55s\u001b[0m 219ms/step - accuracy: 0.9165 - loss: 0.2072 - val_accuracy: 0.8210 - val_loss: 0.5041\n"
     ]
    }
   ],
   "source": [
    "history = model.fit(\n",
    "    training_set,\n",
    "    epochs=25,\n",
    "    validation_data=test_set\n",
    ")\n"
   ]
  },
  {
   "cell_type": "code",
   "execution_count": 26,
   "id": "23fd72a1-e24a-4af0-a3f1-c322e4374fe5",
   "metadata": {},
   "outputs": [
    {
     "name": "stdout",
     "output_type": "stream",
     "text": [
      "\u001b[1m63/63\u001b[0m \u001b[32m━━━━━━━━━━━━━━━━━━━━\u001b[0m\u001b[37m\u001b[0m \u001b[1m7s\u001b[0m 118ms/step - accuracy: 0.8250 - loss: 0.4996\n",
      "Test Accuracy: 82.10%\n"
     ]
    },
    {
     "data": {
      "image/png": "[encoded data removed]",
      "text/plain": [
       "<Figure size 640x480 with 1 Axes>"
      ]
     },
     "metadata": {},
     "output_type": "display_data"
    }
   ],
   "source": [
    "# Evaluate on test set\n",
    "test_loss, test_accuracy = model.evaluate(test_set)\n",
    "print(f\"Test Accuracy: {test_accuracy*100:.2f}%\")\n",
    "\n",
    "# Plot training history\n",
    "plt.plot(history.history['accuracy'], label='Train Accuracy')\n",
    "plt.plot(history.history['val_accuracy'], label='Validation Accuracy')\n",
    "plt.legend()\n",
    "plt.show()\n"
   ]
  },
  {
   "cell_type": "code",
   "execution_count": 34,
   "id": "1b0aff75-aa4d-474f-90c6-781255eb68b4",
   "metadata": {},
   "outputs": [
    {
     "ename": "SyntaxError",
     "evalue": "(unicode error) 'unicodeescape' codec can't decode bytes in position 2-3: truncated \\UXXXXXXXX escape (1261425748.py, line 11)",
     "output_type": "error",
     "traceback": [
      "\u001b[1;36m  Cell \u001b[1;32mIn[34], line 11\u001b[1;36m\u001b[0m\n\u001b[1;33m    result = predict_image('C:\\Users\\91807\\Downloads\\Project - CNN for Image Classification\\Project - CNN for Image Classification\\dataset\\single_prediction')\u001b[0m\n\u001b[1;37m                           ^\u001b[0m\n\u001b[1;31mSyntaxError\u001b[0m\u001b[1;31m:\u001b[0m (unicode error) 'unicodeescape' codec can't decode bytes in position 2-3: truncated \\UXXXXXXXX escape\n"
     ]
    }
   ],
   "source": [
    "from tensorflow.keras.utils import load_img, img_to_array\n",
    "\n",
    "def predict_image(image_path):\n",
    "    image = load_img(image_path, target_size=(64, 64))\n",
    "    image_array = img_to_array(image)\n",
    "    image_array = np.expand_dims(image_array, axis=0) / 255.0\n",
    "    prediction = model.predict(image_array)\n",
    "    return 'Dog' if prediction[0][0] > 0.5 else 'Cat'\n",
    "\n",
    "# Example prediction\n",
    "result = predict_image('C:\\Users\\91807\\Downloads\\Project - CNN for Image Classification\\Project - CNN for Image Classification\\dataset\\single_prediction')\n",
    "print(f\"The image is a: {result}\")\n"
   ]
  },
  {
   "cell_type": "code",
   "execution_count": 36,
   "id": "1fc60619-8957-406c-ad5b-44d13bde1b7e",
   "metadata": {},
   "outputs": [],
   "source": [
    "image_path = 'C:\\\\Users\\\\91807\\\\Downloads\\\\Project - CNN for Image Classification\\\\Project - CNN for Image Classification\\\\dataset\\\\single_prediction\\\\example_image.jpg'\n"
   ]
  },
  {
   "cell_type": "code",
   "execution_count": 46,
   "id": "7140a754-f184-435e-beae-eb5f86a6eb13",
   "metadata": {},
   "outputs": [
    {
     "name": "stdout",
     "output_type": "stream",
     "text": [
      "Found 8000 images belonging to 2 classes.\n",
      "Found 2000 images belonging to 2 classes.\n",
      "Epoch 1/25\n",
      "\u001b[1m250/250\u001b[0m \u001b[32m━━━━━━━━━━━━━━━━━━━━\u001b[0m\u001b[37m\u001b[0m \u001b[1m88s\u001b[0m 352ms/step - accuracy: 0.7320 - loss: 0.5665 - val_accuracy: 0.8246 - val_loss: 0.3909\n",
      "Epoch 2/25\n",
      "\u001b[1m250/250\u001b[0m \u001b[32m━━━━━━━━━━━━━━━━━━━━\u001b[0m\u001b[37m\u001b[0m \u001b[1m0s\u001b[0m 624us/step - accuracy: 0.0000e+00 - loss: 0.0000e+00 - val_accuracy: 0.7500 - val_loss: 0.3757\n",
      "Epoch 3/25\n",
      "\u001b[1m250/250\u001b[0m \u001b[32m━━━━━━━━━━━━━━━━━━━━\u001b[0m\u001b[37m\u001b[0m \u001b[1m88s\u001b[0m 353ms/step - accuracy: 0.7523 - loss: 0.5105 - val_accuracy: 0.8150 - val_loss: 0.4060\n",
      "Epoch 4/25\n",
      "\u001b[1m250/250\u001b[0m \u001b[32m━━━━━━━━━━━━━━━━━━━━\u001b[0m\u001b[37m\u001b[0m \u001b[1m0s\u001b[0m 698us/step - accuracy: 0.0000e+00 - loss: 0.0000e+00 - val_accuracy: 0.9375 - val_loss: 0.2209\n",
      "Epoch 5/25\n",
      "\u001b[1m250/250\u001b[0m \u001b[32m━━━━━━━━━━━━━━━━━━━━\u001b[0m\u001b[37m\u001b[0m \u001b[1m88s\u001b[0m 350ms/step - accuracy: 0.7740 - loss: 0.4784 - val_accuracy: 0.8065 - val_loss: 0.4312\n",
      "Epoch 6/25\n",
      "\u001b[1m250/250\u001b[0m \u001b[32m━━━━━━━━━━━━━━━━━━━━\u001b[0m\u001b[37m\u001b[0m \u001b[1m0s\u001b[0m 657us/step - accuracy: 0.0000e+00 - loss: 0.0000e+00 - val_accuracy: 0.7500 - val_loss: 0.4470\n",
      "Epoch 7/25\n",
      "\u001b[1m250/250\u001b[0m \u001b[32m━━━━━━━━━━━━━━━━━━━━\u001b[0m\u001b[37m\u001b[0m \u001b[1m88s\u001b[0m 352ms/step - accuracy: 0.7762 - loss: 0.4766 - val_accuracy: 0.8150 - val_loss: 0.4001\n",
      "Epoch 8/25\n",
      "\u001b[1m250/250\u001b[0m \u001b[32m━━━━━━━━━━━━━━━━━━━━\u001b[0m\u001b[37m\u001b[0m \u001b[1m0s\u001b[0m 596us/step - accuracy: 0.0000e+00 - loss: 0.0000e+00 - val_accuracy: 0.8125 - val_loss: 0.4175\n",
      "Epoch 9/25\n",
      "\u001b[1m250/250\u001b[0m \u001b[32m━━━━━━━━━━━━━━━━━━━━\u001b[0m\u001b[37m\u001b[0m \u001b[1m87s\u001b[0m 347ms/step - accuracy: 0.7682 - loss: 0.4795 - val_accuracy: 0.8130 - val_loss: 0.3999\n",
      "Epoch 10/25\n",
      "\u001b[1m250/250\u001b[0m \u001b[32m━━━━━━━━━━━━━━━━━━━━\u001b[0m\u001b[37m\u001b[0m \u001b[1m0s\u001b[0m 723us/step - accuracy: 0.0000e+00 - loss: 0.0000e+00 - val_accuracy: 0.6875 - val_loss: 0.5746\n",
      "Epoch 11/25\n",
      "\u001b[1m250/250\u001b[0m \u001b[32m━━━━━━━━━━━━━━━━━━━━\u001b[0m\u001b[37m\u001b[0m \u001b[1m87s\u001b[0m 348ms/step - accuracy: 0.7645 - loss: 0.4728 - val_accuracy: 0.8211 - val_loss: 0.3965\n",
      "Epoch 12/25\n",
      "\u001b[1m250/250\u001b[0m \u001b[32m━━━━━━━━━━━━━━━━━━━━\u001b[0m\u001b[37m\u001b[0m \u001b[1m0s\u001b[0m 585us/step - accuracy: 0.0000e+00 - loss: 0.0000e+00 - val_accuracy: 0.8125 - val_loss: 0.5400\n",
      "Epoch 13/25\n",
      "\u001b[1m250/250\u001b[0m \u001b[32m━━━━━━━━━━━━━━━━━━━━\u001b[0m\u001b[37m\u001b[0m \u001b[1m87s\u001b[0m 348ms/step - accuracy: 0.7731 - loss: 0.4733 - val_accuracy: 0.8256 - val_loss: 0.3862\n",
      "Epoch 14/25\n",
      "\u001b[1m250/250\u001b[0m \u001b[32m━━━━━━━━━━━━━━━━━━━━\u001b[0m\u001b[37m\u001b[0m \u001b[1m0s\u001b[0m 604us/step - accuracy: 0.0000e+00 - loss: 0.0000e+00 - val_accuracy: 0.8750 - val_loss: 0.2967\n",
      "Epoch 15/25\n",
      "\u001b[1m250/250\u001b[0m \u001b[32m━━━━━━━━━━━━━━━━━━━━\u001b[0m\u001b[37m\u001b[0m \u001b[1m88s\u001b[0m 352ms/step - accuracy: 0.7807 - loss: 0.4659 - val_accuracy: 0.8110 - val_loss: 0.4048\n",
      "Epoch 16/25\n",
      "\u001b[1m250/250\u001b[0m \u001b[32m━━━━━━━━━━━━━━━━━━━━\u001b[0m\u001b[37m\u001b[0m \u001b[1m0s\u001b[0m 533us/step - accuracy: 0.0000e+00 - loss: 0.0000e+00 - val_accuracy: 0.7500 - val_loss: 0.3282\n",
      "Epoch 17/25\n",
      "\u001b[1m250/250\u001b[0m \u001b[32m━━━━━━━━━━━━━━━━━━━━\u001b[0m\u001b[37m\u001b[0m \u001b[1m88s\u001b[0m 353ms/step - accuracy: 0.7804 - loss: 0.4636 - val_accuracy: 0.8130 - val_loss: 0.3952\n",
      "Epoch 18/25\n",
      "\u001b[1m250/250\u001b[0m \u001b[32m━━━━━━━━━━━━━━━━━━━━\u001b[0m\u001b[37m\u001b[0m \u001b[1m0s\u001b[0m 544us/step - accuracy: 0.0000e+00 - loss: 0.0000e+00 - val_accuracy: 0.8125 - val_loss: 0.4248\n",
      "Epoch 19/25\n",
      "\u001b[1m250/250\u001b[0m \u001b[32m━━━━━━━━━━━━━━━━━━━━\u001b[0m\u001b[37m\u001b[0m \u001b[1m89s\u001b[0m 356ms/step - accuracy: 0.7894 - loss: 0.4453 - val_accuracy: 0.8140 - val_loss: 0.3951\n",
      "Epoch 20/25\n",
      "\u001b[1m250/250\u001b[0m \u001b[32m━━━━━━━━━━━━━━━━━━━━\u001b[0m\u001b[37m\u001b[0m \u001b[1m0s\u001b[0m 670us/step - accuracy: 0.0000e+00 - loss: 0.0000e+00 - val_accuracy: 0.8750 - val_loss: 0.2848\n",
      "Epoch 21/25\n",
      "\u001b[1m250/250\u001b[0m \u001b[32m━━━━━━━━━━━━━━━━━━━━\u001b[0m\u001b[37m\u001b[0m \u001b[1m89s\u001b[0m 355ms/step - accuracy: 0.7787 - loss: 0.4524 - val_accuracy: 0.8170 - val_loss: 0.3854\n",
      "Epoch 22/25\n",
      "\u001b[1m250/250\u001b[0m \u001b[32m━━━━━━━━━━━━━━━━━━━━\u001b[0m\u001b[37m\u001b[0m \u001b[1m0s\u001b[0m 547us/step - accuracy: 0.0000e+00 - loss: 0.0000e+00 - val_accuracy: 0.6250 - val_loss: 0.4501\n",
      "Epoch 23/25\n",
      "\u001b[1m250/250\u001b[0m \u001b[32m━━━━━━━━━━━━━━━━━━━━\u001b[0m\u001b[37m\u001b[0m \u001b[1m90s\u001b[0m 358ms/step - accuracy: 0.7907 - loss: 0.4569 - val_accuracy: 0.8266 - val_loss: 0.3795\n",
      "Epoch 24/25\n",
      "\u001b[1m250/250\u001b[0m \u001b[32m━━━━━━━━━━━━━━━━━━━━\u001b[0m\u001b[37m\u001b[0m \u001b[1m0s\u001b[0m 643us/step - accuracy: 0.0000e+00 - loss: 0.0000e+00 - val_accuracy: 0.8125 - val_loss: 0.4715\n",
      "Epoch 25/25\n",
      "\u001b[1m250/250\u001b[0m \u001b[32m━━━━━━━━━━━━━━━━━━━━\u001b[0m\u001b[37m\u001b[0m \u001b[1m85s\u001b[0m 339ms/step - accuracy: 0.7918 - loss: 0.4386 - val_accuracy: 0.8317 - val_loss: 0.3835\n"
     ]
    }
   ],
   "source": [
    "from tensorflow.keras.preprocessing.image import ImageDataGenerator\n",
    "\n",
    "# Define the directories for your training and test sets\n",
    "train_dir = r'C:\\Users\\91807\\Downloads\\Project - CNN for Image Classification\\Project - CNN for Image Classification\\dataset\\training_set'\n",
    "test_dir = r'C:\\Users\\91807\\Downloads\\Project - CNN for Image Classification\\Project - CNN for Image Classification\\dataset\\test_set'\n",
    "\n",
    "# Define ImageDataGenerator for training and testing\n",
    "train_datagen = ImageDataGenerator(rescale=1./255,  # Normalize images\n",
    "                                   rotation_range=20,  # Data augmentation options\n",
    "                                   width_shift_range=0.2,\n",
    "                                   height_shift_range=0.2,\n",
    "                                   shear_range=0.2,\n",
    "                                   zoom_range=0.2,\n",
    "                                   horizontal_flip=True,\n",
    "                                   fill_mode='nearest')\n",
    "\n",
    "test_datagen = ImageDataGenerator(rescale=1./255)\n",
    "\n",
    "# Load images from the directories\n",
    "training_set = train_datagen.flow_from_directory(train_dir,\n",
    "                                                 target_size=(64, 64),  # Match model input size\n",
    "                                                 batch_size=32,  # Set batch size\n",
    "                                                 class_mode='binary')  # Binary classification (cat or dog)\n",
    "\n",
    "test_set = test_datagen.flow_from_directory(test_dir,\n",
    "                                            target_size=(64, 64),\n",
    "                                            batch_size=32,\n",
    "                                            class_mode='binary')\n",
    "\n",
    "# Train the model\n",
    "history = model.fit(\n",
    "    training_set,\n",
    "    steps_per_epoch=training_set.samples // training_set.batch_size,\n",
    "    epochs=25,\n",
    "    validation_data=test_set,\n",
    "    validation_steps=test_set.samples // test_set.batch_size\n",
    ")\n"
   ]
  },
  {
   "cell_type": "code",
   "execution_count": 52,
   "id": "9ebf3e22-ca41-4e0a-894b-fa2c7d7d4bf4",
   "metadata": {},
   "outputs": [],
   "source": [
    "# Save the model in the new Keras format\n",
    "model.save(r'C:\\Users\\91807\\Downloads\\Project - CNN for Image Classification\\model\\cat_dog_model.keras')\n"
   ]
  },
  {
   "cell_type": "code",
   "execution_count": 54,
   "id": "2dc14d51-5405-43af-8bdc-da33c3e256dc",
   "metadata": {},
   "outputs": [
    {
     "name": "stderr",
     "output_type": "stream",
     "text": [
      "C:\\Users\\91807\\anaconda3\\Lib\\site-packages\\keras\\src\\saving\\saving_lib.py:719: UserWarning: Skipping variable loading for optimizer 'rmsprop', because it has 10 variables whereas the saved optimizer has 18 variables. \n",
      "  saveable.load_own_variables(weights_store.get(inner_path))\n"
     ]
    }
   ],
   "source": [
    "# Load the model saved in .keras format\n",
    "model = load_model(r'C:\\Users\\91807\\Downloads\\Project - CNN for Image Classification\\model\\cat_dog_model.keras')\n"
   ]
  },
  {
   "cell_type": "code",
   "execution_count": 56,
   "id": "4ec8df79-0f27-493d-95e8-6fdbb84127bf",
   "metadata": {},
   "outputs": [
    {
     "name": "stderr",
     "output_type": "stream",
     "text": [
      "WARNING:absl:Compiled the loaded model, but the compiled metrics have yet to be built. `model.compile_metrics` will be empty until you train or evaluate the model.\n"
     ]
    },
    {
     "name": "stdout",
     "output_type": "stream",
     "text": [
      "\u001b[1m1/1\u001b[0m \u001b[32m━━━━━━━━━━━━━━━━━━━━\u001b[0m\u001b[37m\u001b[0m \u001b[1m0s\u001b[0m 303ms/step\n",
      "The image is a: Dog\n"
     ]
    }
   ],
   "source": [
    "import numpy as np\n",
    "from tensorflow.keras.utils import load_img, img_to_array\n",
    "from tensorflow.keras.models import load_model\n",
    "\n",
    "# Load the trained model\n",
    "model = load_model(r'C:\\Users\\91807\\Downloads\\Project - CNN for Image Classification\\model\\cat_dog_model.h5')\n",
    "\n",
    "def predict_image(image_path):\n",
    "    \"\"\"\n",
    "    Predict whether an image is a dog or a cat.\n",
    "\n",
    "    Args:\n",
    "        image_path (str): Path to the image file.\n",
    "\n",
    "    Returns:\n",
    "        str: 'Dog' or 'Cat' based on the prediction.\n",
    "    \"\"\"\n",
    "    try:\n",
    "        # Load and preprocess the image\n",
    "        image = load_img(image_path, target_size=(64, 64))  # Resize image to match model input size\n",
    "        image_array = img_to_array(image)  # Convert image to numpy array\n",
    "        image_array = np.expand_dims(image_array, axis=0)  # Add batch dimension\n",
    "        image_array = image_array / 255.0  # Normalize pixel values to [0, 1]\n",
    "\n",
    "        # Predict using the trained model\n",
    "        prediction = model.predict(image_array)\n",
    "        \n",
    "        # Return result based on the prediction threshold\n",
    "        return 'Dog' if prediction[0][0] > 0.5 else 'Cat'\n",
    "    except Exception as e:\n",
    "        return f\"Error processing image: {e}\"\n",
    "\n",
    "# Set the path to your image (replace 'example_image.jpg' with your actual image filename)\n",
    "image_path = r'C:\\Users\\91807\\Downloads\\Project - CNN for Image Classification\\Project - CNN for Image Classification\\dataset\\single_prediction\\cat_or_dog_1.jpg'\n",
    "\n",
    "# Make the prediction and print the result\n",
    "result = predict_image(image_path)\n",
    "print(f\"The image is a: {result}\")\n"
   ]
  },
  {
   "cell_type": "code",
   "execution_count": null,
   "id": "6ce9ab70-3eb6-4448-a4bc-fdc5812c6677",
   "metadata": {},
   "outputs": [],
   "source": [
    "Github link - https://github.com/ShyamSundhar28/Image-Classification/blob/main/CNN%20for%20image%20classification-checkpoint.ipynb\n",
    "medium link - https://medium.com/@shyamsundhar432/building-a-cnn-to-classify-cats-and-dogs-0c1ce0c3048c"
   ]
  }
 ],
 "metadata": {
  "kernelspec": {
   "display_name": "Python 3 (ipykernel)",
   "language": "python",
   "name": "python3"
  },
  "language_info": {
   "codemirror_mode": {
    "name": "ipython",
    "version": 3
   },
   "file_extension": ".py",
   "mimetype": "text/x-python",
   "name": "python",
   "nbconvert_exporter": "python",
   "pygments_lexer": "ipython3",
   "version": "3.12.4"
  }
 },
 "nbformat": 4,
 "nbformat_minor": 5
}
